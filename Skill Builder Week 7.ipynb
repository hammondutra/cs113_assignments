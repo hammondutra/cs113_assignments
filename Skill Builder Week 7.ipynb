{
 "cells": [
  {
   "cell_type": "code",
   "execution_count": 7,
   "id": "694e733c",
   "metadata": {
    "vscode": {
     "languageId": "sage"
    }
   },
   "outputs": [
    {
     "name": "stdout",
     "output_type": "stream",
     "text": [
      "The magnitude of the first row is: sqrt(abs(a)^2 + 1/3)\n",
      "The magnitude of the second row is: sqrt(abs(b)^2 + 5/6)\n",
      "The magnitude of the third row is: sqrt(abs(c)^2 + 5/6)\n"
     ]
    },
    {
     "data": {
      "text/plain": [
       "[[a == -1/3*sqrt(6), b == -1/6*sqrt(6), c == 1/6*sqrt(6)],\n",
       " [a == 1/3*sqrt(6), b == 1/6*sqrt(6), c == -1/6*sqrt(6)]]"
      ]
     },
     "execution_count": 7,
     "metadata": {},
     "output_type": "execute_result"
    }
   ],
   "source": [
    "var(\"a, b, c\")\n",
    "\n",
    "Q = matrix([[1/sqrt(3), 0, a],\n",
    "            [-1/sqrt(3), -1/sqrt(2), b],\n",
    "            [1/sqrt(3), -1/sqrt(2), c]])\n",
    "\n",
    "row_1 = vector([1/sqrt(3), 0, a])\n",
    "row_2 = vector([-1/sqrt(3), -1/sqrt(2), b])\n",
    "row_3 = vector([1/sqrt(3), -1/sqrt(2), c])\n",
    "\n",
    "# Orthogonality relationships\n",
    "# 1) Row 1 * Row 2 = 0\n",
    "equation_1 = row_1 * row_2 == 0\n",
    "\n",
    "# 2) Row 1 * Row 3 = 0\n",
    "equation_2 = row_1 * row_3 == 0\n",
    "\n",
    "# 3) Row 2 * Row 3 = 0\n",
    "equation_3 = row_2 * row_3 == 0\n",
    "\n",
    "# Normalization relationships\n",
    "equation_4 = row_1.norm() == 1\n",
    "print(f\"The magnitude of the first row is: {row_1.norm()}\")\n",
    "equation_5 = row_2.norm() == 1\n",
    "print(f\"The magnitude of the second row is: {row_2.norm()}\")\n",
    "equation_6 = row_3.norm() == 1\n",
    "print(f\"The magnitude of the third row is: {row_3.norm()}\")\n",
    "\n",
    "solve([equation_1, equation_2, equation_3, equation_4, equation_5, equation_6], a, b, c)"
   ]
  },
  {
   "cell_type": "code",
   "execution_count": null,
   "id": "a3f8a2da",
   "metadata": {
    "vscode": {
     "languageId": "sage"
    }
   },
   "outputs": [
    {
     "name": "stdout",
     "output_type": "stream",
     "text": [
      "0\n",
      "0\n",
      "0\n",
      "1\n",
      "1\n",
      "1\n"
     ]
    }
   ],
   "source": [
    "# Showing that the first solution satisfies the conditions\n",
    "\n",
    "# Orthogonality\n",
    "Q_1_row_1 = vector([1/sqrt(3), 0, -sqrt(6)/3])\n",
    "Q_1_row_2 = vector([-1/sqrt(3), -1/sqrt(2), -sqrt(6)/6])\n",
    "Q_1_row_3 = vector([1/sqrt(3), -1/sqrt(2), sqrt(6)/6])\n",
    "\n",
    "# These should all be 0\n",
    "print(Q_1_row_1 * Q_1_row_2)\n",
    "print(Q_1_row_1 * Q_1_row_3)\n",
    "print(Q_1_row_2 * Q_1_row_3)\n",
    "\n",
    "# Normality - Should all be 0\n",
    "print(Q_1_row_1.norm())\n",
    "print(Q_1_row_2.norm())\n",
    "print(Q_1_row_3.norm())"
   ]
  },
  {
   "cell_type": "code",
   "execution_count": 14,
   "id": "f2a72ee9",
   "metadata": {
    "vscode": {
     "languageId": "sage"
    }
   },
   "outputs": [
    {
     "name": "stdout",
     "output_type": "stream",
     "text": [
      "0\n",
      "0\n",
      "0\n",
      "1\n",
      "1\n",
      "1\n"
     ]
    }
   ],
   "source": [
    "# Showing that the second solution satisfies the conditions\n",
    "\n",
    "# Solution 2\n",
    "Q_2 = matrix([[1/sqrt(3), 0, sqrt(6)/3],\n",
    "            [-1/sqrt(3), -1/sqrt(2), sqrt(6)/6],\n",
    "            [1/sqrt(3), -1/sqrt(2), -sqrt(6)/6]])\n",
    "\n",
    "# Orthogonality\n",
    "Q_2_row_1 = vector([1/sqrt(3), 0, sqrt(6)/3])\n",
    "Q_2_row_2 = vector([-1/sqrt(3), -1/sqrt(2), sqrt(6)/6])\n",
    "Q_2_row_3 = vector([1/sqrt(3), -1/sqrt(2), -sqrt(6)/6])\n",
    "\n",
    "# These should all be 0\n",
    "print(Q_2_row_1 * Q_2_row_2)\n",
    "print(Q_2_row_1 * Q_2_row_3)\n",
    "print(Q_2_row_2 * Q_2_row_3)\n",
    "\n",
    "# Normality - Should all be 0\n",
    "print(Q_2_row_1.norm())\n",
    "print(Q_2_row_2.norm())\n",
    "print(Q_2_row_3.norm())"
   ]
  },
  {
   "cell_type": "code",
   "execution_count": null,
   "id": "cf7fd440",
   "metadata": {
    "vscode": {
     "languageId": "sage"
    }
   },
   "outputs": [
    {
     "data": {
      "text/plain": [
       "[    1     0|  1/9 13/27]\n",
       "[    0     1|  1/9  4/27]"
      ]
     },
     "execution_count": 2,
     "metadata": {},
     "output_type": "execute_result"
    }
   ],
   "source": [
    "# Exercise 2.7.2 (a)\n",
    "M_1 = matrix(QQ, [[1, 2],\n",
    "                  [1, 3]])\n",
    "M_2 = matrix(QQ, [[2, 7],\n",
    "                  [5, 4]])\n",
    "\n",
    "augmented_matrix = M_2.augment(M_1, subdivide=True)\n",
    "\n",
    "augmented_matrix.rref()"
   ]
  },
  {
   "cell_type": "code",
   "execution_count": 3,
   "id": "8eb4aa54",
   "metadata": {
    "vscode": {
     "languageId": "sage"
    }
   },
   "outputs": [
    {
     "data": {
      "text/plain": [
       "[ 1  0|-4 13]\n",
       "[ 0  1| 3 -3]"
      ]
     },
     "execution_count": 3,
     "metadata": {},
     "output_type": "execute_result"
    }
   ],
   "source": [
    "# Exercise 2.7.2 (b)\n",
    "M_1 = matrix(QQ, [[2, 7],\n",
    "                  [5, 4]])\n",
    "M_2 = matrix(QQ, [[1, 2],\n",
    "                  [1, 3]])\n",
    "\n",
    "augmented_matrix = M_2.augment(M_1, subdivide=True)\n",
    "\n",
    "augmented_matrix.rref()"
   ]
  },
  {
   "cell_type": "code",
   "execution_count": 9,
   "id": "555b393c",
   "metadata": {
    "vscode": {
     "languageId": "sage"
    }
   },
   "outputs": [
    {
     "name": "stdout",
     "output_type": "stream",
     "text": [
      "-a/(b*c - a*d)\n"
     ]
    }
   ],
   "source": [
    "# Exercise 2.7.2 (c)\n",
    "var(\"a, b, c, d\")\n",
    "\n",
    "M_1 = matrix(QQ, [[1, 0],\n",
    "                  [0, 1]])\n",
    "M_2 = matrix([[a, c],\n",
    "              [b, d]])\n",
    "\n",
    "augmented_matrix = M_2.augment(M_1, subdivide=True)\n",
    "\n",
    "augmented_matrix.rref()\n",
    "\n",
    "upper_left = (1/a - b*c/(a^2*(b*c/a - d))).full_simplify()\n",
    "upper_right = (c/(a*(b*c/a - d))).full_simplify()\n",
    "lower_left = (b/(a*(b*c/a - d))).full_simplify()\n",
    "lower_right = (-1/(b*c/a - d)).full_simplify()\n",
    "\n",
    "print(lower_right)"
   ]
  }
 ],
 "metadata": {
  "kernelspec": {
   "display_name": "SageMath 10.7",
   "language": "sage",
   "name": "SageMath-10.7"
  },
  "language_info": {
   "codemirror_mode": {
    "name": "ipython",
    "version": 3
   },
   "file_extension": ".py",
   "mimetype": "text/x-python",
   "name": "python",
   "nbconvert_exporter": "python",
   "pygments_lexer": "ipython3",
   "version": "3.13.3"
  }
 },
 "nbformat": 4,
 "nbformat_minor": 5
}
