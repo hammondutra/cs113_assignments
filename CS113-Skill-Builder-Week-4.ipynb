{
 "cells": [
  {
   "cell_type": "code",
   "execution_count": 12,
   "id": "09902bd2",
   "metadata": {},
   "outputs": [
    {
     "name": "stdout",
     "output_type": "stream",
     "text": [
      "[   1    0 -5/2|   0]\n",
      "[   0    1  5/2|   0]\n"
     ]
    }
   ],
   "source": [
    "# Exercise 2.4.2 (a)\n",
    "\n",
    "# Defining the coefficient matrix\n",
    "M = matrix(QQ, [[1, 3, 5],\n",
    "                [2, 4, 5]])\n",
    "\n",
    "# Augmenting the matrix\n",
    "augmented_M = M.augment(vector([0, 0]), subdivide = True)\n",
    "\n",
    "# Displaying M in RREF\n",
    "print(augmented_M.rref())"
   ]
  },
  {
   "cell_type": "code",
   "execution_count": 13,
   "id": "077d25fd",
   "metadata": {},
   "outputs": [
    {
     "name": "stdout",
     "output_type": "stream",
     "text": [
      "The determinant of M is: 2\n"
     ]
    },
    {
     "data": {
      "text/plain": [
       "[1 0 0|0]\n",
       "[0 1 0|0]\n",
       "[0 0 1|0]"
      ]
     },
     "execution_count": 13,
     "metadata": {},
     "output_type": "execute_result"
    }
   ],
   "source": [
    "# Exercise 2.4.2 (c)\n",
    "\n",
    "# Defining the coefficient matrix\n",
    "M = matrix(QQ, [[0, -1, 1],\n",
    "                [1, 4, -6],\n",
    "                [1, 2, -2]])\n",
    "\n",
    "# Prints the determinant of M\n",
    "print(f\"The determinant of M is: {M.det()}\")\n",
    "\n",
    "# Augmenting the matrix\n",
    "augmented_M = M.augment(vector([0, 0, 0]), subdivide = True)\n",
    "\n",
    "# Displaying M in RREF\n",
    "augmented_M.rref()\n"
   ]
  },
  {
   "cell_type": "code",
   "execution_count": 15,
   "id": "b774f29c",
   "metadata": {},
   "outputs": [
    {
     "data": {
      "text/plain": [
       "[1 0|0]\n",
       "[0 1|0]\n",
       "[0 0|0]\n",
       "[0 0|0]"
      ]
     },
     "execution_count": 15,
     "metadata": {},
     "output_type": "execute_result"
    }
   ],
   "source": [
    "# Exercise 2.4.2 (d)\n",
    "\n",
    "# Defining the coefficient matrix\n",
    "M = matrix(QQ, [[4, 2],\n",
    "                [2, -1],\n",
    "                [3, -6],\n",
    "                [-1, 4]])\n",
    "\n",
    "# Augmenting the matrix\n",
    "augmented_M = M.augment(vector([0, 0, 0, 0]), subdivide = True)\n",
    "\n",
    "# Displaying M in RREF\n",
    "augmented_M.rref()"
   ]
  },
  {
   "cell_type": "code",
   "execution_count": 16,
   "id": "cad14169",
   "metadata": {},
   "outputs": [
    {
     "name": "stdout",
     "output_type": "stream",
     "text": [
      "The determinant of M is: 22\n"
     ]
    },
    {
     "data": {
      "text/plain": [
       "[     1      0      0|-21/11]\n",
       "[     0      1      0| 18/11]\n",
       "[     0      0      1| -2/11]"
      ]
     },
     "execution_count": 16,
     "metadata": {},
     "output_type": "execute_result"
    }
   ],
   "source": [
    "# Exercise 2.4.3 (a)\n",
    "\n",
    "# Defining the coefficient matrix\n",
    "M = matrix(QQ, [[2, 3, -5],\n",
    "                [1, 3, 0],\n",
    "                [4, 7, -1]])\n",
    "\n",
    "# Prints the determinant of M\n",
    "print(f\"The determinant of M is: {M.det()}\")\n",
    "\n",
    "# Augmenting the matrix\n",
    "augmented_M = M.augment(vector([2, 3, 4]), subdivide = True)\n",
    "\n",
    "# Displaying M in RREF\n",
    "augmented_M.rref()"
   ]
  },
  {
   "cell_type": "code",
   "execution_count": 17,
   "id": "b2177742",
   "metadata": {},
   "outputs": [
    {
     "name": "stdout",
     "output_type": "stream",
     "text": [
      "The determinant of M is: -18\n"
     ]
    },
    {
     "data": {
      "text/plain": [
       "[     1      0      0|-37/18]\n",
       "[     0      1      0|   1/6]\n",
       "[     0      0      1|   5/9]"
      ]
     },
     "execution_count": 17,
     "metadata": {},
     "output_type": "execute_result"
    }
   ],
   "source": [
    "# Exercise 2.4.3 (b)\n",
    "\n",
    "# Defining the coefficient matrix\n",
    "M = matrix(QQ, [[1, -5, 7],\n",
    "                [2, 4, 8],\n",
    "                [3, 3, 12]])\n",
    "\n",
    "# Prints the determinant of M\n",
    "print(f\"The determinant of M is: {M.det()}\")\n",
    "\n",
    "# Augmenting the matrix\n",
    "augmented_M = M.augment(vector([1, 1, 1]), subdivide = True)\n",
    "\n",
    "# Displaying M in RREF\n",
    "augmented_M.rref()"
   ]
  },
  {
   "cell_type": "code",
   "execution_count": 19,
   "id": "83a2f7ac",
   "metadata": {},
   "outputs": [
    {
     "data": {
      "text/plain": [
       "[ 1  0  0 -3| 2]\n",
       "[ 0  1  0  1| 1]\n",
       "[ 0  0  1  3|-1]"
      ]
     },
     "execution_count": 19,
     "metadata": {},
     "output_type": "execute_result"
    }
   ],
   "source": [
    "# Exercise 2.4.3 (c)\n",
    "\n",
    "# Defining the coefficient matrix\n",
    "M = matrix(QQ, [[1, -1, -1, -7],\n",
    "                [0, 1, -1, -2],\n",
    "                [-1, 2, 1, 8]])\n",
    "\n",
    "# Augmenting the matrix\n",
    "augmented_M = M.augment(vector([2, 2, -1]), subdivide = True)\n",
    "\n",
    "# Displaying M in RREF\n",
    "augmented_M.rref()"
   ]
  },
  {
   "cell_type": "code",
   "execution_count": 21,
   "id": "623871da",
   "metadata": {},
   "outputs": [
    {
     "name": "stdout",
     "output_type": "stream",
     "text": [
      "The determinant of M is: 1\n"
     ]
    }
   ],
   "source": [
    "# Exercise 2.4.3 (d)\n",
    "M = matrix(QQ, [[1, -1, -1],\n",
    "                [0, 1, -1],\n",
    "                [-1, 2, 1]])\n",
    "\n",
    "# Prints the determinant of M\n",
    "print(f\"The determinant of M is: {M.det()}\")"
   ]
  }
 ],
 "metadata": {
  "kernelspec": {
   "display_name": "SageMath 10.7",
   "language": "sage",
   "name": "SageMath-10.7"
  },
  "language_info": {
   "codemirror_mode": {
    "name": "ipython",
    "version": 3
   },
   "file_extension": ".py",
   "mimetype": "text/x-python",
   "name": "sage",
   "nbconvert_exporter": "python",
   "pygments_lexer": "ipython3",
   "version": "3.13.3"
  }
 },
 "nbformat": 4,
 "nbformat_minor": 5
}
